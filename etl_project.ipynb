{
 "cells": [
  {
   "cell_type": "markdown",
   "metadata": {},
   "source": [
    "<center><h1>ETL-Pipeline</h1></center>"
   ]
  },
  {
   "cell_type": "markdown",
   "metadata": {},
   "source": [
    "<center><h1>Import, Clean, Aggregate</h1></center>"
   ]
  },
  {
   "cell_type": "markdown",
   "metadata": {},
   "source": [
    "### Package & Environment Dependencies"
   ]
  },
  {
   "cell_type": "code",
   "execution_count": 39,
   "metadata": {},
   "outputs": [],
   "source": [
    "import pandas as pd\n",
    "import datetime\n",
    "import sqlalchemy as db\n",
    "from config import password\n",
    "\n",
    "pd.set_option('display.max_columns', 500)"
   ]
  },
  {
   "cell_type": "markdown",
   "metadata": {},
   "source": [
    "### Load Data"
   ]
  },
  {
   "cell_type": "code",
   "execution_count": 2,
   "metadata": {},
   "outputs": [],
   "source": [
    "stocks = pd.read_csv('all_stocks_5yr.csv')"
   ]
  },
  {
   "cell_type": "code",
   "execution_count": 3,
   "metadata": {},
   "outputs": [
    {
     "name": "stderr",
     "output_type": "stream",
     "text": [
      "C:\\Users\\TPCal\\Anaconda3\\lib\\site-packages\\IPython\\core\\interactiveshell.py:3049: DtypeWarning: Columns (4,6,31,33,61,62,63,76,79,90,92,94,96,114,115,121) have mixed types. Specify dtype option on import or set low_memory=False.\n",
      "  interactivity=interactivity, compiler=compiler, result=result)\n"
     ]
    }
   ],
   "source": [
    "terror = pd.read_csv('globalterrorismdb_0718dist.csv', encoding = \"ISO-8859-1\")"
   ]
  },
  {
   "cell_type": "code",
   "execution_count": 4,
   "metadata": {},
   "outputs": [
    {
     "name": "stderr",
     "output_type": "stream",
     "text": [
      "C:\\Users\\TPCal\\Anaconda3\\lib\\site-packages\\IPython\\core\\interactiveshell.py:3049: DtypeWarning: Columns (7,8) have mixed types. Specify dtype option on import or set low_memory=False.\n",
      "  interactivity=interactivity, compiler=compiler, result=result)\n"
     ]
    }
   ],
   "source": [
    "flights = pd.read_csv('flights.csv')"
   ]
  },
  {
   "cell_type": "markdown",
   "metadata": {},
   "source": [
    "### Terrorism Data"
   ]
  },
  {
   "cell_type": "code",
   "execution_count": 5,
   "metadata": {},
   "outputs": [],
   "source": [
    "# Terror\n",
    "terror_ = terror.loc[terror['imonth'] > 0].loc[terror['iday'] > 0].copy()\n",
    "\n",
    "def create_date_terror(row):\n",
    "    \n",
    "    return datetime.date(row['iyear'], row['imonth'], row['iday'])\n",
    "\n",
    "terror_['date'] = terror_.apply(lambda x: create_date_terror(x), axis=1)\n",
    "\n",
    "terror_us = terror_[terror_['country_txt'] == 'United States']\n",
    "\n",
    "terror_df = terror_us[[\n",
    "    'provstate', 'city', 'latitude', 'longitude', 'summary', 'success', 'suicide', \n",
    "    'attacktype1_txt', 'targsubtype1_txt', 'target1', 'gname', 'motive', 'weapsubtype1_txt', \n",
    "    'weapdetail', 'propextent_txt', 'propcomment', 'date'\n",
    "]]\n",
    "\n",
    "terror_df = terror_df.rename(columns={\n",
    "    'provstate': 'state',\n",
    "    'attacktype1_txt': 'attack_type',\n",
    "    'targsubtype1_txt': 'target_type',\n",
    "    'target1': 'target',\n",
    "    'gname': 'group_name',\n",
    "    'weapsubtype1_txt': 'weapon_type',\n",
    "    'weapdetail': 'weapon_detail',\n",
    "    'propextent_txt': 'property_damage',\n",
    "    'propcomment': 'property_comment'    \n",
    "})\n",
    "\n",
    "terror_df['date'] = pd.to_datetime(terror_df['date'])\n",
    "terror_df = terror_df[(terror_df['date'] >= '2015-01-01') & (terror_df['date'] <= '2015-12-31')]\n",
    "\n",
    "terror_grouped = terror_df.groupby(['date', 'state', 'city']).agg({'success': 'sum', 'suicide': 'sum'}).reset_index()"
   ]
  },
  {
   "cell_type": "markdown",
   "metadata": {},
   "source": [
    "### Flight Data"
   ]
  },
  {
   "cell_type": "code",
   "execution_count": 6,
   "metadata": {},
   "outputs": [],
   "source": [
    "# Flights\n",
    "def create_date_flights(row):\n",
    "    \n",
    "    return datetime.date(row['YEAR'], row['MONTH'], row['DAY'])\n",
    "\n",
    "flights['date'] = flights.apply(lambda x: create_date_flights(x), axis=1)\n",
    "flights['date'] = pd.to_datetime(flights['date'])\n",
    "\n",
    "flights_clean = flights[[\n",
    "    'date', 'DEPARTURE_DELAY', 'ARRIVAL_DELAY', 'ORIGIN_AIRPORT', 'DESTINATION_AIRPORT', 'AIRLINE', 'FLIGHT_NUMBER'\n",
    "]]\n",
    "\n",
    "# Grouped by Date - 2015\n",
    "flights_grouped = round(flights_clean.groupby(['date']).agg({'DEPARTURE_DELAY': 'mean',\n",
    "                                                  'ARRIVAL_DELAY': 'mean'}).reset_index(), 2).rename(columns={\n",
    "    'DEPARTURE_DELAY': 'departure_delay',\n",
    "    'ARRIVAL_DELAY': 'arrival_delay'\n",
    "})"
   ]
  },
  {
   "cell_type": "markdown",
   "metadata": {},
   "source": [
    "### Stock Data"
   ]
  },
  {
   "cell_type": "code",
   "execution_count": 7,
   "metadata": {},
   "outputs": [],
   "source": [
    "stocks_clean = stocks[\n",
    "    (stocks['date'] >= '2015-01-01') & (stocks['date'] <= '2015-12-31')\n",
    "].reset_index().drop(columns=['index'])\n",
    "\n",
    "stocks_grouped = round(stocks_clean.groupby('date').agg({\n",
    "    'open': 'mean', \n",
    "    'high': 'mean', \n",
    "    'low': 'mean', \n",
    "    'close': 'mean', \n",
    "    'volume': 'sum'\n",
    "}), 2).reset_index()\n",
    "\n",
    "stocks_grouped['date'] = pd.to_datetime(stocks_grouped['date'])"
   ]
  },
  {
   "cell_type": "markdown",
   "metadata": {},
   "source": [
    "### Data Export to CSV"
   ]
  },
  {
   "cell_type": "code",
   "execution_count": 21,
   "metadata": {},
   "outputs": [],
   "source": [
    "# Export to CSV\n",
    "flights_grouped.to_csv('flights_grouped.csv', index=False)\n",
    "terror_grouped.to_csv('terror_grouped.csv', index=False)\n",
    "stocks_grouped.to_csv('stocks_grouped.csv', index=False)"
   ]
  },
  {
   "cell_type": "markdown",
   "metadata": {},
   "source": [
    "### Inspect the 3 Datasets"
   ]
  },
  {
   "cell_type": "code",
   "execution_count": 22,
   "metadata": {},
   "outputs": [
    {
     "data": {
      "text/html": [
       "<div>\n",
       "<style scoped>\n",
       "    .dataframe tbody tr th:only-of-type {\n",
       "        vertical-align: middle;\n",
       "    }\n",
       "\n",
       "    .dataframe tbody tr th {\n",
       "        vertical-align: top;\n",
       "    }\n",
       "\n",
       "    .dataframe thead th {\n",
       "        text-align: right;\n",
       "    }\n",
       "</style>\n",
       "<table border=\"1\" class=\"dataframe\">\n",
       "  <thead>\n",
       "    <tr style=\"text-align: right;\">\n",
       "      <th></th>\n",
       "      <th>date</th>\n",
       "      <th>departure_delay</th>\n",
       "      <th>arrival_delay</th>\n",
       "    </tr>\n",
       "  </thead>\n",
       "  <tbody>\n",
       "    <tr>\n",
       "      <th>0</th>\n",
       "      <td>2015-01-01</td>\n",
       "      <td>9.61</td>\n",
       "      <td>5.35</td>\n",
       "    </tr>\n",
       "    <tr>\n",
       "      <th>1</th>\n",
       "      <td>2015-01-02</td>\n",
       "      <td>12.65</td>\n",
       "      <td>9.84</td>\n",
       "    </tr>\n",
       "    <tr>\n",
       "      <th>2</th>\n",
       "      <td>2015-01-03</td>\n",
       "      <td>25.17</td>\n",
       "      <td>25.46</td>\n",
       "    </tr>\n",
       "    <tr>\n",
       "      <th>3</th>\n",
       "      <td>2015-01-04</td>\n",
       "      <td>31.57</td>\n",
       "      <td>31.98</td>\n",
       "    </tr>\n",
       "    <tr>\n",
       "      <th>4</th>\n",
       "      <td>2015-01-05</td>\n",
       "      <td>21.12</td>\n",
       "      <td>18.81</td>\n",
       "    </tr>\n",
       "  </tbody>\n",
       "</table>\n",
       "</div>"
      ],
      "text/plain": [
       "        date  departure_delay  arrival_delay\n",
       "0 2015-01-01             9.61           5.35\n",
       "1 2015-01-02            12.65           9.84\n",
       "2 2015-01-03            25.17          25.46\n",
       "3 2015-01-04            31.57          31.98\n",
       "4 2015-01-05            21.12          18.81"
      ]
     },
     "execution_count": 22,
     "metadata": {},
     "output_type": "execute_result"
    }
   ],
   "source": [
    "flights_grouped.head()"
   ]
  },
  {
   "cell_type": "code",
   "execution_count": 23,
   "metadata": {},
   "outputs": [
    {
     "data": {
      "text/html": [
       "<div>\n",
       "<style scoped>\n",
       "    .dataframe tbody tr th:only-of-type {\n",
       "        vertical-align: middle;\n",
       "    }\n",
       "\n",
       "    .dataframe tbody tr th {\n",
       "        vertical-align: top;\n",
       "    }\n",
       "\n",
       "    .dataframe thead th {\n",
       "        text-align: right;\n",
       "    }\n",
       "</style>\n",
       "<table border=\"1\" class=\"dataframe\">\n",
       "  <thead>\n",
       "    <tr style=\"text-align: right;\">\n",
       "      <th></th>\n",
       "      <th>date</th>\n",
       "      <th>state</th>\n",
       "      <th>city</th>\n",
       "      <th>success</th>\n",
       "      <th>suicide</th>\n",
       "    </tr>\n",
       "  </thead>\n",
       "  <tbody>\n",
       "    <tr>\n",
       "      <th>0</th>\n",
       "      <td>2015-01-06</td>\n",
       "      <td>Colorado</td>\n",
       "      <td>Colorado Springs</td>\n",
       "      <td>1</td>\n",
       "      <td>0</td>\n",
       "    </tr>\n",
       "    <tr>\n",
       "      <th>1</th>\n",
       "      <td>2015-02-10</td>\n",
       "      <td>North Carolina</td>\n",
       "      <td>Chapel Hill</td>\n",
       "      <td>1</td>\n",
       "      <td>0</td>\n",
       "    </tr>\n",
       "    <tr>\n",
       "      <th>2</th>\n",
       "      <td>2015-02-17</td>\n",
       "      <td>Florida</td>\n",
       "      <td>Melbourne</td>\n",
       "      <td>1</td>\n",
       "      <td>0</td>\n",
       "    </tr>\n",
       "    <tr>\n",
       "      <th>3</th>\n",
       "      <td>2015-02-18</td>\n",
       "      <td>Michigan</td>\n",
       "      <td>Kalamazoo</td>\n",
       "      <td>1</td>\n",
       "      <td>0</td>\n",
       "    </tr>\n",
       "    <tr>\n",
       "      <th>4</th>\n",
       "      <td>2015-02-23</td>\n",
       "      <td>Ohio</td>\n",
       "      <td>Kent</td>\n",
       "      <td>1</td>\n",
       "      <td>0</td>\n",
       "    </tr>\n",
       "  </tbody>\n",
       "</table>\n",
       "</div>"
      ],
      "text/plain": [
       "        date           state              city  success  suicide\n",
       "0 2015-01-06        Colorado  Colorado Springs        1        0\n",
       "1 2015-02-10  North Carolina       Chapel Hill        1        0\n",
       "2 2015-02-17         Florida         Melbourne        1        0\n",
       "3 2015-02-18        Michigan         Kalamazoo        1        0\n",
       "4 2015-02-23            Ohio              Kent        1        0"
      ]
     },
     "execution_count": 23,
     "metadata": {},
     "output_type": "execute_result"
    }
   ],
   "source": [
    "terror_grouped.head()"
   ]
  },
  {
   "cell_type": "code",
   "execution_count": 24,
   "metadata": {},
   "outputs": [
    {
     "data": {
      "text/html": [
       "<div>\n",
       "<style scoped>\n",
       "    .dataframe tbody tr th:only-of-type {\n",
       "        vertical-align: middle;\n",
       "    }\n",
       "\n",
       "    .dataframe tbody tr th {\n",
       "        vertical-align: top;\n",
       "    }\n",
       "\n",
       "    .dataframe thead th {\n",
       "        text-align: right;\n",
       "    }\n",
       "</style>\n",
       "<table border=\"1\" class=\"dataframe\">\n",
       "  <thead>\n",
       "    <tr style=\"text-align: right;\">\n",
       "      <th></th>\n",
       "      <th>date</th>\n",
       "      <th>open</th>\n",
       "      <th>high</th>\n",
       "      <th>low</th>\n",
       "      <th>close</th>\n",
       "      <th>volume</th>\n",
       "    </tr>\n",
       "  </thead>\n",
       "  <tbody>\n",
       "    <tr>\n",
       "      <th>0</th>\n",
       "      <td>2015-01-02</td>\n",
       "      <td>82.80</td>\n",
       "      <td>83.43</td>\n",
       "      <td>81.65</td>\n",
       "      <td>82.49</td>\n",
       "      <td>1477334403</td>\n",
       "    </tr>\n",
       "    <tr>\n",
       "      <th>1</th>\n",
       "      <td>2015-01-05</td>\n",
       "      <td>82.06</td>\n",
       "      <td>82.53</td>\n",
       "      <td>80.57</td>\n",
       "      <td>81.05</td>\n",
       "      <td>2180602024</td>\n",
       "    </tr>\n",
       "    <tr>\n",
       "      <th>2</th>\n",
       "      <td>2015-01-06</td>\n",
       "      <td>81.19</td>\n",
       "      <td>81.82</td>\n",
       "      <td>79.57</td>\n",
       "      <td>80.28</td>\n",
       "      <td>2579398620</td>\n",
       "    </tr>\n",
       "    <tr>\n",
       "      <th>3</th>\n",
       "      <td>2015-01-07</td>\n",
       "      <td>80.92</td>\n",
       "      <td>81.92</td>\n",
       "      <td>80.19</td>\n",
       "      <td>81.34</td>\n",
       "      <td>2139799130</td>\n",
       "    </tr>\n",
       "    <tr>\n",
       "      <th>4</th>\n",
       "      <td>2015-01-08</td>\n",
       "      <td>81.91</td>\n",
       "      <td>83.13</td>\n",
       "      <td>81.44</td>\n",
       "      <td>82.67</td>\n",
       "      <td>2241965877</td>\n",
       "    </tr>\n",
       "  </tbody>\n",
       "</table>\n",
       "</div>"
      ],
      "text/plain": [
       "        date   open   high    low  close      volume\n",
       "0 2015-01-02  82.80  83.43  81.65  82.49  1477334403\n",
       "1 2015-01-05  82.06  82.53  80.57  81.05  2180602024\n",
       "2 2015-01-06  81.19  81.82  79.57  80.28  2579398620\n",
       "3 2015-01-07  80.92  81.92  80.19  81.34  2139799130\n",
       "4 2015-01-08  81.91  83.13  81.44  82.67  2241965877"
      ]
     },
     "execution_count": 24,
     "metadata": {},
     "output_type": "execute_result"
    }
   ],
   "source": [
    "stocks_grouped.head()"
   ]
  },
  {
   "cell_type": "code",
   "execution_count": 25,
   "metadata": {},
   "outputs": [
    {
     "data": {
      "text/plain": [
       "(252, 36, 365)"
      ]
     },
     "execution_count": 25,
     "metadata": {},
     "output_type": "execute_result"
    }
   ],
   "source": [
    "len(stocks_grouped), len(terror_grouped), len(flights_grouped)"
   ]
  },
  {
   "cell_type": "code",
   "execution_count": 26,
   "metadata": {},
   "outputs": [
    {
     "name": "stdout",
     "output_type": "stream",
     "text": [
      "<class 'pandas.core.frame.DataFrame'>\n",
      "RangeIndex: 365 entries, 0 to 364\n",
      "Data columns (total 3 columns):\n",
      "date               365 non-null datetime64[ns]\n",
      "departure_delay    365 non-null float64\n",
      "arrival_delay      365 non-null float64\n",
      "dtypes: datetime64[ns](1), float64(2)\n",
      "memory usage: 8.6 KB\n"
     ]
    }
   ],
   "source": [
    "flights_grouped.info()"
   ]
  },
  {
   "cell_type": "code",
   "execution_count": 27,
   "metadata": {},
   "outputs": [
    {
     "name": "stdout",
     "output_type": "stream",
     "text": [
      "<class 'pandas.core.frame.DataFrame'>\n",
      "RangeIndex: 252 entries, 0 to 251\n",
      "Data columns (total 6 columns):\n",
      "date      252 non-null datetime64[ns]\n",
      "open      252 non-null float64\n",
      "high      252 non-null float64\n",
      "low       252 non-null float64\n",
      "close     252 non-null float64\n",
      "volume    252 non-null int64\n",
      "dtypes: datetime64[ns](1), float64(4), int64(1)\n",
      "memory usage: 11.9 KB\n"
     ]
    }
   ],
   "source": [
    "stocks_grouped.info()"
   ]
  },
  {
   "cell_type": "code",
   "execution_count": 28,
   "metadata": {},
   "outputs": [
    {
     "name": "stdout",
     "output_type": "stream",
     "text": [
      "<class 'pandas.core.frame.DataFrame'>\n",
      "RangeIndex: 36 entries, 0 to 35\n",
      "Data columns (total 5 columns):\n",
      "date       36 non-null datetime64[ns]\n",
      "state      36 non-null object\n",
      "city       36 non-null object\n",
      "success    36 non-null int64\n",
      "suicide    36 non-null int64\n",
      "dtypes: datetime64[ns](1), int64(2), object(2)\n",
      "memory usage: 1.5+ KB\n"
     ]
    }
   ],
   "source": [
    "terror_grouped.info()"
   ]
  },
  {
   "cell_type": "markdown",
   "metadata": {},
   "source": [
    "### Combine Data"
   ]
  },
  {
   "cell_type": "code",
   "execution_count": 42,
   "metadata": {},
   "outputs": [],
   "source": [
    "combined = pd.merge(flights_grouped, stocks_grouped, on='date', how='left')\n",
    "combined = pd.merge(combined, terror_grouped, on='date', how='left')\n",
    "combined.to_csv('combined_ETL_data.csv')"
   ]
  },
  {
   "cell_type": "code",
   "execution_count": 43,
   "metadata": {},
   "outputs": [
    {
     "data": {
      "text/html": [
       "<div>\n",
       "<style scoped>\n",
       "    .dataframe tbody tr th:only-of-type {\n",
       "        vertical-align: middle;\n",
       "    }\n",
       "\n",
       "    .dataframe tbody tr th {\n",
       "        vertical-align: top;\n",
       "    }\n",
       "\n",
       "    .dataframe thead th {\n",
       "        text-align: right;\n",
       "    }\n",
       "</style>\n",
       "<table border=\"1\" class=\"dataframe\">\n",
       "  <thead>\n",
       "    <tr style=\"text-align: right;\">\n",
       "      <th></th>\n",
       "      <th>date</th>\n",
       "      <th>departure_delay</th>\n",
       "      <th>arrival_delay</th>\n",
       "      <th>open</th>\n",
       "      <th>high</th>\n",
       "      <th>low</th>\n",
       "      <th>close</th>\n",
       "      <th>volume</th>\n",
       "      <th>state</th>\n",
       "      <th>city</th>\n",
       "      <th>success</th>\n",
       "      <th>suicide</th>\n",
       "    </tr>\n",
       "  </thead>\n",
       "  <tbody>\n",
       "    <tr>\n",
       "      <th>0</th>\n",
       "      <td>2015-01-01</td>\n",
       "      <td>9.61</td>\n",
       "      <td>5.35</td>\n",
       "      <td>NaN</td>\n",
       "      <td>NaN</td>\n",
       "      <td>NaN</td>\n",
       "      <td>NaN</td>\n",
       "      <td>NaN</td>\n",
       "      <td>NaN</td>\n",
       "      <td>NaN</td>\n",
       "      <td>NaN</td>\n",
       "      <td>NaN</td>\n",
       "    </tr>\n",
       "    <tr>\n",
       "      <th>1</th>\n",
       "      <td>2015-01-02</td>\n",
       "      <td>12.65</td>\n",
       "      <td>9.84</td>\n",
       "      <td>82.80</td>\n",
       "      <td>83.43</td>\n",
       "      <td>81.65</td>\n",
       "      <td>82.49</td>\n",
       "      <td>1.477334e+09</td>\n",
       "      <td>NaN</td>\n",
       "      <td>NaN</td>\n",
       "      <td>NaN</td>\n",
       "      <td>NaN</td>\n",
       "    </tr>\n",
       "    <tr>\n",
       "      <th>2</th>\n",
       "      <td>2015-01-03</td>\n",
       "      <td>25.17</td>\n",
       "      <td>25.46</td>\n",
       "      <td>NaN</td>\n",
       "      <td>NaN</td>\n",
       "      <td>NaN</td>\n",
       "      <td>NaN</td>\n",
       "      <td>NaN</td>\n",
       "      <td>NaN</td>\n",
       "      <td>NaN</td>\n",
       "      <td>NaN</td>\n",
       "      <td>NaN</td>\n",
       "    </tr>\n",
       "    <tr>\n",
       "      <th>3</th>\n",
       "      <td>2015-01-04</td>\n",
       "      <td>31.57</td>\n",
       "      <td>31.98</td>\n",
       "      <td>NaN</td>\n",
       "      <td>NaN</td>\n",
       "      <td>NaN</td>\n",
       "      <td>NaN</td>\n",
       "      <td>NaN</td>\n",
       "      <td>NaN</td>\n",
       "      <td>NaN</td>\n",
       "      <td>NaN</td>\n",
       "      <td>NaN</td>\n",
       "    </tr>\n",
       "    <tr>\n",
       "      <th>4</th>\n",
       "      <td>2015-01-05</td>\n",
       "      <td>21.12</td>\n",
       "      <td>18.81</td>\n",
       "      <td>82.06</td>\n",
       "      <td>82.53</td>\n",
       "      <td>80.57</td>\n",
       "      <td>81.05</td>\n",
       "      <td>2.180602e+09</td>\n",
       "      <td>NaN</td>\n",
       "      <td>NaN</td>\n",
       "      <td>NaN</td>\n",
       "      <td>NaN</td>\n",
       "    </tr>\n",
       "    <tr>\n",
       "      <th>5</th>\n",
       "      <td>2015-01-06</td>\n",
       "      <td>22.49</td>\n",
       "      <td>21.30</td>\n",
       "      <td>81.19</td>\n",
       "      <td>81.82</td>\n",
       "      <td>79.57</td>\n",
       "      <td>80.28</td>\n",
       "      <td>2.579399e+09</td>\n",
       "      <td>Colorado</td>\n",
       "      <td>Colorado Springs</td>\n",
       "      <td>1.0</td>\n",
       "      <td>0.0</td>\n",
       "    </tr>\n",
       "    <tr>\n",
       "      <th>6</th>\n",
       "      <td>2015-01-07</td>\n",
       "      <td>14.52</td>\n",
       "      <td>11.96</td>\n",
       "      <td>80.92</td>\n",
       "      <td>81.92</td>\n",
       "      <td>80.19</td>\n",
       "      <td>81.34</td>\n",
       "      <td>2.139799e+09</td>\n",
       "      <td>NaN</td>\n",
       "      <td>NaN</td>\n",
       "      <td>NaN</td>\n",
       "      <td>NaN</td>\n",
       "    </tr>\n",
       "    <tr>\n",
       "      <th>7</th>\n",
       "      <td>2015-01-08</td>\n",
       "      <td>16.40</td>\n",
       "      <td>13.32</td>\n",
       "      <td>81.91</td>\n",
       "      <td>83.13</td>\n",
       "      <td>81.44</td>\n",
       "      <td>82.67</td>\n",
       "      <td>2.241966e+09</td>\n",
       "      <td>NaN</td>\n",
       "      <td>NaN</td>\n",
       "      <td>NaN</td>\n",
       "      <td>NaN</td>\n",
       "    </tr>\n",
       "    <tr>\n",
       "      <th>8</th>\n",
       "      <td>2015-01-09</td>\n",
       "      <td>15.37</td>\n",
       "      <td>12.26</td>\n",
       "      <td>82.76</td>\n",
       "      <td>83.15</td>\n",
       "      <td>81.51</td>\n",
       "      <td>82.03</td>\n",
       "      <td>1.838031e+09</td>\n",
       "      <td>NaN</td>\n",
       "      <td>NaN</td>\n",
       "      <td>NaN</td>\n",
       "      <td>NaN</td>\n",
       "    </tr>\n",
       "    <tr>\n",
       "      <th>9</th>\n",
       "      <td>2015-01-10</td>\n",
       "      <td>8.20</td>\n",
       "      <td>1.92</td>\n",
       "      <td>NaN</td>\n",
       "      <td>NaN</td>\n",
       "      <td>NaN</td>\n",
       "      <td>NaN</td>\n",
       "      <td>NaN</td>\n",
       "      <td>NaN</td>\n",
       "      <td>NaN</td>\n",
       "      <td>NaN</td>\n",
       "      <td>NaN</td>\n",
       "    </tr>\n",
       "    <tr>\n",
       "      <th>10</th>\n",
       "      <td>2015-01-11</td>\n",
       "      <td>13.63</td>\n",
       "      <td>10.19</td>\n",
       "      <td>NaN</td>\n",
       "      <td>NaN</td>\n",
       "      <td>NaN</td>\n",
       "      <td>NaN</td>\n",
       "      <td>NaN</td>\n",
       "      <td>NaN</td>\n",
       "      <td>NaN</td>\n",
       "      <td>NaN</td>\n",
       "      <td>NaN</td>\n",
       "    </tr>\n",
       "    <tr>\n",
       "      <th>11</th>\n",
       "      <td>2015-01-12</td>\n",
       "      <td>19.57</td>\n",
       "      <td>18.56</td>\n",
       "      <td>82.11</td>\n",
       "      <td>82.47</td>\n",
       "      <td>80.78</td>\n",
       "      <td>81.41</td>\n",
       "      <td>1.943920e+09</td>\n",
       "      <td>NaN</td>\n",
       "      <td>NaN</td>\n",
       "      <td>NaN</td>\n",
       "      <td>NaN</td>\n",
       "    </tr>\n",
       "    <tr>\n",
       "      <th>12</th>\n",
       "      <td>2015-01-13</td>\n",
       "      <td>6.63</td>\n",
       "      <td>3.16</td>\n",
       "      <td>82.03</td>\n",
       "      <td>82.98</td>\n",
       "      <td>80.48</td>\n",
       "      <td>81.26</td>\n",
       "      <td>2.324654e+09</td>\n",
       "      <td>NaN</td>\n",
       "      <td>NaN</td>\n",
       "      <td>NaN</td>\n",
       "      <td>NaN</td>\n",
       "    </tr>\n",
       "    <tr>\n",
       "      <th>13</th>\n",
       "      <td>2015-01-14</td>\n",
       "      <td>4.29</td>\n",
       "      <td>-0.82</td>\n",
       "      <td>80.39</td>\n",
       "      <td>81.43</td>\n",
       "      <td>79.64</td>\n",
       "      <td>80.90</td>\n",
       "      <td>2.550459e+09</td>\n",
       "      <td>NaN</td>\n",
       "      <td>NaN</td>\n",
       "      <td>NaN</td>\n",
       "      <td>NaN</td>\n",
       "    </tr>\n",
       "    <tr>\n",
       "      <th>14</th>\n",
       "      <td>2015-01-15</td>\n",
       "      <td>6.42</td>\n",
       "      <td>1.65</td>\n",
       "      <td>81.20</td>\n",
       "      <td>81.74</td>\n",
       "      <td>79.82</td>\n",
       "      <td>80.19</td>\n",
       "      <td>2.444082e+09</td>\n",
       "      <td>NaN</td>\n",
       "      <td>NaN</td>\n",
       "      <td>NaN</td>\n",
       "      <td>NaN</td>\n",
       "    </tr>\n",
       "    <tr>\n",
       "      <th>15</th>\n",
       "      <td>2015-01-16</td>\n",
       "      <td>5.74</td>\n",
       "      <td>0.92</td>\n",
       "      <td>80.08</td>\n",
       "      <td>81.50</td>\n",
       "      <td>79.63</td>\n",
       "      <td>81.30</td>\n",
       "      <td>2.523562e+09</td>\n",
       "      <td>NaN</td>\n",
       "      <td>NaN</td>\n",
       "      <td>NaN</td>\n",
       "      <td>NaN</td>\n",
       "    </tr>\n",
       "    <tr>\n",
       "      <th>16</th>\n",
       "      <td>2015-01-17</td>\n",
       "      <td>2.16</td>\n",
       "      <td>-5.28</td>\n",
       "      <td>NaN</td>\n",
       "      <td>NaN</td>\n",
       "      <td>NaN</td>\n",
       "      <td>NaN</td>\n",
       "      <td>NaN</td>\n",
       "      <td>NaN</td>\n",
       "      <td>NaN</td>\n",
       "      <td>NaN</td>\n",
       "      <td>NaN</td>\n",
       "    </tr>\n",
       "    <tr>\n",
       "      <th>17</th>\n",
       "      <td>2015-01-18</td>\n",
       "      <td>5.65</td>\n",
       "      <td>-0.31</td>\n",
       "      <td>NaN</td>\n",
       "      <td>NaN</td>\n",
       "      <td>NaN</td>\n",
       "      <td>NaN</td>\n",
       "      <td>NaN</td>\n",
       "      <td>NaN</td>\n",
       "      <td>NaN</td>\n",
       "      <td>NaN</td>\n",
       "      <td>NaN</td>\n",
       "    </tr>\n",
       "    <tr>\n",
       "      <th>18</th>\n",
       "      <td>2015-01-19</td>\n",
       "      <td>3.86</td>\n",
       "      <td>-2.20</td>\n",
       "      <td>NaN</td>\n",
       "      <td>NaN</td>\n",
       "      <td>NaN</td>\n",
       "      <td>NaN</td>\n",
       "      <td>NaN</td>\n",
       "      <td>NaN</td>\n",
       "      <td>NaN</td>\n",
       "      <td>NaN</td>\n",
       "      <td>NaN</td>\n",
       "    </tr>\n",
       "    <tr>\n",
       "      <th>19</th>\n",
       "      <td>2015-01-20</td>\n",
       "      <td>2.92</td>\n",
       "      <td>-2.18</td>\n",
       "      <td>81.59</td>\n",
       "      <td>82.17</td>\n",
       "      <td>80.34</td>\n",
       "      <td>81.39</td>\n",
       "      <td>2.354356e+09</td>\n",
       "      <td>NaN</td>\n",
       "      <td>NaN</td>\n",
       "      <td>NaN</td>\n",
       "      <td>NaN</td>\n",
       "    </tr>\n",
       "  </tbody>\n",
       "</table>\n",
       "</div>"
      ],
      "text/plain": [
       "         date  departure_delay  arrival_delay   open   high    low  close  \\\n",
       "0  2015-01-01             9.61           5.35    NaN    NaN    NaN    NaN   \n",
       "1  2015-01-02            12.65           9.84  82.80  83.43  81.65  82.49   \n",
       "2  2015-01-03            25.17          25.46    NaN    NaN    NaN    NaN   \n",
       "3  2015-01-04            31.57          31.98    NaN    NaN    NaN    NaN   \n",
       "4  2015-01-05            21.12          18.81  82.06  82.53  80.57  81.05   \n",
       "5  2015-01-06            22.49          21.30  81.19  81.82  79.57  80.28   \n",
       "6  2015-01-07            14.52          11.96  80.92  81.92  80.19  81.34   \n",
       "7  2015-01-08            16.40          13.32  81.91  83.13  81.44  82.67   \n",
       "8  2015-01-09            15.37          12.26  82.76  83.15  81.51  82.03   \n",
       "9  2015-01-10             8.20           1.92    NaN    NaN    NaN    NaN   \n",
       "10 2015-01-11            13.63          10.19    NaN    NaN    NaN    NaN   \n",
       "11 2015-01-12            19.57          18.56  82.11  82.47  80.78  81.41   \n",
       "12 2015-01-13             6.63           3.16  82.03  82.98  80.48  81.26   \n",
       "13 2015-01-14             4.29          -0.82  80.39  81.43  79.64  80.90   \n",
       "14 2015-01-15             6.42           1.65  81.20  81.74  79.82  80.19   \n",
       "15 2015-01-16             5.74           0.92  80.08  81.50  79.63  81.30   \n",
       "16 2015-01-17             2.16          -5.28    NaN    NaN    NaN    NaN   \n",
       "17 2015-01-18             5.65          -0.31    NaN    NaN    NaN    NaN   \n",
       "18 2015-01-19             3.86          -2.20    NaN    NaN    NaN    NaN   \n",
       "19 2015-01-20             2.92          -2.18  81.59  82.17  80.34  81.39   \n",
       "\n",
       "          volume     state              city  success  suicide  \n",
       "0            NaN       NaN               NaN      NaN      NaN  \n",
       "1   1.477334e+09       NaN               NaN      NaN      NaN  \n",
       "2            NaN       NaN               NaN      NaN      NaN  \n",
       "3            NaN       NaN               NaN      NaN      NaN  \n",
       "4   2.180602e+09       NaN               NaN      NaN      NaN  \n",
       "5   2.579399e+09  Colorado  Colorado Springs      1.0      0.0  \n",
       "6   2.139799e+09       NaN               NaN      NaN      NaN  \n",
       "7   2.241966e+09       NaN               NaN      NaN      NaN  \n",
       "8   1.838031e+09       NaN               NaN      NaN      NaN  \n",
       "9            NaN       NaN               NaN      NaN      NaN  \n",
       "10           NaN       NaN               NaN      NaN      NaN  \n",
       "11  1.943920e+09       NaN               NaN      NaN      NaN  \n",
       "12  2.324654e+09       NaN               NaN      NaN      NaN  \n",
       "13  2.550459e+09       NaN               NaN      NaN      NaN  \n",
       "14  2.444082e+09       NaN               NaN      NaN      NaN  \n",
       "15  2.523562e+09       NaN               NaN      NaN      NaN  \n",
       "16           NaN       NaN               NaN      NaN      NaN  \n",
       "17           NaN       NaN               NaN      NaN      NaN  \n",
       "18           NaN       NaN               NaN      NaN      NaN  \n",
       "19  2.354356e+09       NaN               NaN      NaN      NaN  "
      ]
     },
     "execution_count": 43,
     "metadata": {},
     "output_type": "execute_result"
    }
   ],
   "source": [
    "combined.head(20)"
   ]
  },
  {
   "cell_type": "markdown",
   "metadata": {},
   "source": [
    "<center><h1>Insert to PostgreSQL</h1></center>"
   ]
  },
  {
   "cell_type": "markdown",
   "metadata": {},
   "source": [
    "### Initialize SQLAlchemy Connection"
   ]
  },
  {
   "cell_type": "code",
   "execution_count": 40,
   "metadata": {},
   "outputs": [],
   "source": [
    "db_string = 'postgresql://postgres:' + password + '@localhost:5432/ETL_Project'\n",
    "\n",
    "engine = db.create_engine(db_string)\n",
    "\n",
    "connection = engine.connect()"
   ]
  },
  {
   "cell_type": "markdown",
   "metadata": {},
   "source": [
    "### Insert Data"
   ]
  },
  {
   "cell_type": "code",
   "execution_count": 41,
   "metadata": {},
   "outputs": [],
   "source": [
    "combined.to_sql('combined_data', engine)"
   ]
  }
 ],
 "metadata": {
  "kernelspec": {
   "display_name": "Python 3",
   "language": "python",
   "name": "python3"
  },
  "language_info": {
   "codemirror_mode": {
    "name": "ipython",
    "version": 3
   },
   "file_extension": ".py",
   "mimetype": "text/x-python",
   "name": "python",
   "nbconvert_exporter": "python",
   "pygments_lexer": "ipython3",
   "version": "3.7.3"
  }
 },
 "nbformat": 4,
 "nbformat_minor": 2
}
